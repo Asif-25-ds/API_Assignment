{
 "cells": [
  {
   "cell_type": "code",
   "execution_count": 1,
   "metadata": {},
   "outputs": [],
   "source": [
    "# Answer of Question -1\n",
    "# API stands for Application Programming Interface. \n",
    "# It is a set of rules and tools that allows different software applications to communicate with each other.Real life example is\n",
    "# whether app.\n",
    "# The weather application on our smartphone that provide us with current weather conditions, doesn't have its own weather data; \n",
    "# instead, it relies on a third-party service that provides weather information through an API.\n",
    "# In this case, the Weather API allows the weather application to send requests for specific location-based weather data.\n",
    "# The API then processes these requests and returns the relevant weather information in a format that the application can understand. \n",
    "# The app can then display this information to the user."
   ]
  },
  {
   "cell_type": "code",
   "execution_count": 2,
   "metadata": {},
   "outputs": [],
   "source": [
    "# Answer of Question -2 Advantages of using API:-\n",
    "# (1) APIs enable different software systems to communicate and work together.\n",
    "# (2) APIs allow developers to access the features and data of third-party services. This is common in areas like social media.\n",
    "\n",
    "# Disadvantages of using API:-\n",
    "# (1) When applications rely on external APIs, they become dependent on the availability and reliability of those services. \n",
    "# If the external API experiences downtime or undergoes changes, it can impact the functionality of dependent applications.\n",
    "# (2) Sharing data through APIs raises concerns about data privacy and security. \n",
    "# It's crucial to implement proper authentication, encryption, and access controls to mitigate these risks."
   ]
  },
  {
   "cell_type": "code",
   "execution_count": 3,
   "metadata": {},
   "outputs": [],
   "source": [
    "# Answer of Question -3 What is a Web API:-\n",
    "# A Web API, or Web Application Programming Interface, is an interface that allows different software applications to communicate\n",
    "# and interact with each other over the web. It provides a set of rules and protocols for building and interacting with web services.\n",
    "# Web APIs are commonly used in web development to enable communication between a web server and a client-side application\n",
    "# (such as a web or mobile application).\n",
    "\n",
    "# Difference between API and Web API:\n",
    "\n",
    "# (1)API\" is a more general term referring to interfaces for various types of software,\n",
    "# \"Web API\" specifically denotes an interface designed for web-based communication.\n",
    "\n",
    "#(2)API uses protocols like TCP/IP, RPC (Remote Procedure Call),etc.Web APIs specifically rely on web protocols such as HTTP or HTTPS.\n",
    "\n",
    "#(3) APIs can use different data formats for communication, including JSON, XML, or even binary formats.\n",
    "# Web APIs commonly use standard web data formats like JSON or XML for data exchange. \n",
    "# These formats are lightweight and easily readable by both humans and machines."
   ]
  },
  {
   "cell_type": "code",
   "execution_count": null,
   "metadata": {},
   "outputs": [],
   "source": [
    "# Answer of Question -4\n",
    "#REST (Representational State Transfer) and SOAP (Simple Object Access Protocol) are two different architectural styles used in \n",
    "#web services. \n",
    "#It relies on a stateless communication model, meaning each request from a client to a server must contain all the information needed \n",
    "#to understand and process the request. RESTful architectures are commonly used in web services, and they leverage standard HTTP\n",
    "# methods (GET, POST, PUT, DELETE) for communication.\n",
    "\n",
    "# SOAP is a protocol for exchanging structured information in web services. Unlike REST, SOAP is a protocol, not an architectural \n",
    "# style. It defines a set of rules for structuring messages that can be used for communication between applications. SOAP messages \n",
    "# are typically XML-based and are sent over HTTP or other protocols."
   ]
  },
  {
   "cell_type": "code",
   "execution_count": 4,
   "metadata": {},
   "outputs": [],
   "source": [
    "# Answer of Question -5\n",
    "# What is it?\n",
    "# SOAP is a protocol for communication between applications\n",
    "# REST is an architecture style for designing communication interfaces.\n",
    "\n",
    "# Transport Protocol:-\n",
    "# SOAP is independent and can work with any transport protocol.\n",
    "# REST works only with HTTPS.\n",
    "\n",
    "# Data format:-\n",
    "# SOAP supports only XML data exchange.\n",
    "# REST supports XML, JSON, plain text, HTML.\n",
    "\n",
    "# Performance:-\n",
    "# SOAP messages are larger, which makes communication slower.\n",
    "# REST has faster performance due to smaller messages.\n",
    "\n",
    "# Security\n",
    "# SOAP supports encryption with additional overheads.\n",
    "# REST supports encryption without affecting performance.\n",
    "\n",
    "# Use case\n",
    "# SOAP is useful in legacy applications and private APIs.\n",
    "# REST is useful in modern applications and public APIs.\n",
    "\n"
   ]
  },
  {
   "cell_type": "code",
   "execution_count": null,
   "metadata": {},
   "outputs": [],
   "source": []
  }
 ],
 "metadata": {
  "kernelspec": {
   "display_name": "Python 3",
   "language": "python",
   "name": "python3"
  },
  "language_info": {
   "codemirror_mode": {
    "name": "ipython",
    "version": 3
   },
   "file_extension": ".py",
   "mimetype": "text/x-python",
   "name": "python",
   "nbconvert_exporter": "python",
   "pygments_lexer": "ipython3",
   "version": "3.11.8"
  }
 },
 "nbformat": 4,
 "nbformat_minor": 2
}
